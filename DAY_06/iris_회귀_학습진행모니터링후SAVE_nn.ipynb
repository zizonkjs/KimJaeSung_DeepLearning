{
 "cells": [
  {
   "cell_type": "markdown",
   "metadata": {},
   "source": [
    "#### DNN 기반 회귀 모델 구현 + 학습 진행 모니터링 + 진행 파라미터 저장\n",
    "- 사용되는 데이터셋 : iris.csv\n",
    "- feature : 3개\n",
    "- target : 1개 \n",
    "- 학습방법 : 지도학습 -> 회귀\n",
    "- 알고리즘 : 인공신경망(ANN) -> 심층(은닉층) 신경망 -> MLP(층이여러개), DNN(은닉층이 많은 구성) \n",
    "- FramWork : Pytorch  \n",
    "\n",
    "#### - 모니터링\n",
    "    - 기준 설정 : 검증데이터셋의 loss와 score\n",
    "    - 평가 설정 : 학습데이터셋의 loss와 score와 비교해서 학습 중단 여부를 결정\n",
    "    - 선택 설정 : 현재까지 진행된 모델의 파라미터(가중치, 절편) 저장 여부 또는 모델 전체 저장\n",
    "\n",
    "#### - 진행 파라미터 저장\n"
   ]
  },
  {
   "cell_type": "markdown",
   "metadata": {},
   "source": [
    "[1] 모듈  로딩 & 데이터  준비 <HR>"
   ]
  },
  {
   "cell_type": "code",
   "execution_count": 2,
   "metadata": {},
   "outputs": [],
   "source": [
    "# 모듈 로딩\n",
    "# 모델관련 모듈\n",
    "import torch\n",
    "import torch.nn as nn\n",
    "import torch.nn.functional as F\n",
    "from torch.utils.data import DataLoader\n",
    "from torch.utils.data import Dataset\n",
    "import torch.optim as optim\n",
    "from torchmetrics.regression import R2Score, MeanSquaredError\n",
    "from torchinfo import summary\n",
    "\n",
    "# 데이터 전처리 및 시각화 모듈\n",
    "import pandas as pd\n",
    "import matplotlib.pyplot as plt\n",
    "import numpy as np\n",
    "import seaborn as sns\n",
    "from sklearn.preprocessing import *\n",
    "from sklearn.model_selection import train_test_split\n",
    "\n"
   ]
  },
  {
   "cell_type": "code",
   "execution_count": 3,
   "metadata": {},
   "outputs": [
    {
     "name": "stdout",
     "output_type": "stream",
     "text": [
      " torch  2.4.1\n",
      " pandas  2.0.3\n"
     ]
    }
   ],
   "source": [
    "# 활용 패키지 버전 체크\n",
    "def versioncheck():\n",
    "    print(f' torch  {torch.__version__}')\n",
    "    print(f' pandas  {pd.__version__}')\n",
    "\n",
    "versioncheck()"
   ]
  },
  {
   "cell_type": "code",
   "execution_count": 4,
   "metadata": {},
   "outputs": [
    {
     "data": {
      "text/html": [
       "<div>\n",
       "<style scoped>\n",
       "    .dataframe tbody tr th:only-of-type {\n",
       "        vertical-align: middle;\n",
       "    }\n",
       "\n",
       "    .dataframe tbody tr th {\n",
       "        vertical-align: top;\n",
       "    }\n",
       "\n",
       "    .dataframe thead th {\n",
       "        text-align: right;\n",
       "    }\n",
       "</style>\n",
       "<table border=\"1\" class=\"dataframe\">\n",
       "  <thead>\n",
       "    <tr style=\"text-align: right;\">\n",
       "      <th></th>\n",
       "      <th>sepal.length</th>\n",
       "      <th>sepal.width</th>\n",
       "      <th>petal.length</th>\n",
       "      <th>petal.width</th>\n",
       "    </tr>\n",
       "  </thead>\n",
       "  <tbody>\n",
       "    <tr>\n",
       "      <th>0</th>\n",
       "      <td>5.1</td>\n",
       "      <td>3.5</td>\n",
       "      <td>1.4</td>\n",
       "      <td>0.2</td>\n",
       "    </tr>\n",
       "    <tr>\n",
       "      <th>1</th>\n",
       "      <td>4.9</td>\n",
       "      <td>3.0</td>\n",
       "      <td>1.4</td>\n",
       "      <td>0.2</td>\n",
       "    </tr>\n",
       "    <tr>\n",
       "      <th>2</th>\n",
       "      <td>4.7</td>\n",
       "      <td>3.2</td>\n",
       "      <td>1.3</td>\n",
       "      <td>0.2</td>\n",
       "    </tr>\n",
       "    <tr>\n",
       "      <th>3</th>\n",
       "      <td>4.6</td>\n",
       "      <td>3.1</td>\n",
       "      <td>1.5</td>\n",
       "      <td>0.2</td>\n",
       "    </tr>\n",
       "    <tr>\n",
       "      <th>4</th>\n",
       "      <td>5.0</td>\n",
       "      <td>3.6</td>\n",
       "      <td>1.4</td>\n",
       "      <td>0.2</td>\n",
       "    </tr>\n",
       "    <tr>\n",
       "      <th>...</th>\n",
       "      <td>...</td>\n",
       "      <td>...</td>\n",
       "      <td>...</td>\n",
       "      <td>...</td>\n",
       "    </tr>\n",
       "    <tr>\n",
       "      <th>145</th>\n",
       "      <td>6.7</td>\n",
       "      <td>3.0</td>\n",
       "      <td>5.2</td>\n",
       "      <td>2.3</td>\n",
       "    </tr>\n",
       "    <tr>\n",
       "      <th>146</th>\n",
       "      <td>6.3</td>\n",
       "      <td>2.5</td>\n",
       "      <td>5.0</td>\n",
       "      <td>1.9</td>\n",
       "    </tr>\n",
       "    <tr>\n",
       "      <th>147</th>\n",
       "      <td>6.5</td>\n",
       "      <td>3.0</td>\n",
       "      <td>5.2</td>\n",
       "      <td>2.0</td>\n",
       "    </tr>\n",
       "    <tr>\n",
       "      <th>148</th>\n",
       "      <td>6.2</td>\n",
       "      <td>3.4</td>\n",
       "      <td>5.4</td>\n",
       "      <td>2.3</td>\n",
       "    </tr>\n",
       "    <tr>\n",
       "      <th>149</th>\n",
       "      <td>5.9</td>\n",
       "      <td>3.0</td>\n",
       "      <td>5.1</td>\n",
       "      <td>1.8</td>\n",
       "    </tr>\n",
       "  </tbody>\n",
       "</table>\n",
       "<p>150 rows × 4 columns</p>\n",
       "</div>"
      ],
      "text/plain": [
       "     sepal.length  sepal.width  petal.length  petal.width\n",
       "0             5.1          3.5           1.4          0.2\n",
       "1             4.9          3.0           1.4          0.2\n",
       "2             4.7          3.2           1.3          0.2\n",
       "3             4.6          3.1           1.5          0.2\n",
       "4             5.0          3.6           1.4          0.2\n",
       "..            ...          ...           ...          ...\n",
       "145           6.7          3.0           5.2          2.3\n",
       "146           6.3          2.5           5.0          1.9\n",
       "147           6.5          3.0           5.2          2.0\n",
       "148           6.2          3.4           5.4          2.3\n",
       "149           5.9          3.0           5.1          1.8\n",
       "\n",
       "[150 rows x 4 columns]"
      ]
     },
     "execution_count": 4,
     "metadata": {},
     "output_type": "execute_result"
    }
   ],
   "source": [
    "DATA_FILE = r'C:\\Users\\zizonkjs\\머신러닝,딥러닝\\data\\iris.csv'\n",
    "irisdf=pd.read_csv(DATA_FILE, usecols=[0,1,2,3])\n",
    "irisdf"
   ]
  },
  {
   "cell_type": "markdown",
   "metadata": {},
   "source": [
    "[2] - 모델 클레스 설계 및 정의 - <hr>\n",
    "어떤 클래스를 만들까? 고려\n",
    "클래스 목적 : iris.DataSet 학습 후 추론\n",
    "클래스 이름 : IrisRegModel\n",
    "부모 클래스 : nn.Module\n",
    "매개 변수   : 층별 입출력 갯수 고정하기 때문에 필요 없음\n",
    "클래스 속성 : featureDF, targetDF, n_rows, n_features\n",
    "클래스 기능 : __init__() : 모델 구조, forward() : 순방향 학습 <= 오버라이딩(overriding) 상속관계일 때\n",
    "\n",
    "클래스 구조  \n",
    "    -입력층 : 피쳐 3개  퍼셉트론 : 10개(보통 입력 때 많이 주고 갈수록 줄임) (3,10)\n",
    "    -은닉층 : 입력 10개     출력 30개   (10,30)\n",
    "    -출력층 : 입력30개      타겟 1개    (30,1)  \n",
    "  \n",
    "-손실 함수/ 활성화 함수\n",
    "    *클래스 형태 ==> nn.MESLoss, nn.ReLU ==> __init__() 메서드에 사용\n",
    "    *함수 형태 ==> torch.nn.functional => forward()메서드에 사용"
   ]
  },
  {
   "cell_type": "code",
   "execution_count": 5,
   "metadata": {},
   "outputs": [],
   "source": [
    "class IrisRegModel(nn.Module):\n",
    "\n",
    "    # 모델 구조 구성 및 인스턴스 생성 메서드\n",
    "    def __init__(self):\n",
    "        super().__init__()\n",
    "\n",
    "        self.in_layer=nn.Linear(3, 10)\n",
    "        self.hidden_layer=nn.Linear(10, 30)\n",
    "        self.out_layer=nn.Linear(30, 1)\n",
    "    \n",
    "    # 순방향 학습 진행 메서드\n",
    "    def forward(self, input_data):\n",
    "        # 입력층\n",
    "        y=self.in_layer(input_data) # f1w1+f2w2+f3w3+b 요런 식이 10개(숫자10개)\n",
    "        y=F.relu(y)                   # 범위 0이상\n",
    "        \n",
    "        # 은닉층 : 10개의 숫자 받아오기\n",
    "        y=self.hidden_layer(y)\n",
    "        y=F.relu(y)\n",
    "\n",
    "        # 출력층 : 30개의 숫자 값\n",
    "        return self.out_layer(y)\n",
    "    \n",
    "\n",
    "\n",
    "\n",
    "\n"
   ]
  },
  {
   "cell_type": "code",
   "execution_count": 6,
   "metadata": {},
   "outputs": [
    {
     "name": "stdout",
     "output_type": "stream",
     "text": [
      "IrisRegModel(\n",
      "  (in_layer): Linear(in_features=3, out_features=10, bias=True)\n",
      "  (hidden_layer): Linear(in_features=10, out_features=30, bias=True)\n",
      "  (out_layer): Linear(in_features=30, out_features=1, bias=True)\n",
      ")\n"
     ]
    },
    {
     "data": {
      "text/plain": [
       "==========================================================================================\n",
       "Layer (type:depth-idx)                   Output Shape              Param #\n",
       "==========================================================================================\n",
       "IrisRegModel                             [1000, 1]                 --\n",
       "├─Linear: 1-1                            [1000, 10]                40\n",
       "├─Linear: 1-2                            [1000, 30]                330\n",
       "├─Linear: 1-3                            [1000, 1]                 31\n",
       "==========================================================================================\n",
       "Total params: 401\n",
       "Trainable params: 401\n",
       "Non-trainable params: 0\n",
       "Total mult-adds (M): 0.40\n",
       "==========================================================================================\n",
       "Input size (MB): 0.01\n",
       "Forward/backward pass size (MB): 0.33\n",
       "Params size (MB): 0.00\n",
       "Estimated Total Size (MB): 0.34\n",
       "=========================================================================================="
      ]
     },
     "execution_count": 6,
     "metadata": {},
     "output_type": "execute_result"
    }
   ],
   "source": [
    "# 모델 인스턴스 생성\n",
    "model = IrisRegModel()\n",
    "print(model)\n",
    "\n",
    "# 모델 사용 메모리 정보\n",
    "summary(model, input_size=(1000,3))"
   ]
  },
  {
   "cell_type": "markdown",
   "metadata": {},
   "source": [
    "[3] 데이터셋 클래스 설계 및 정의 <hr>\n",
    "- 데이터셋 : iris.csv\n",
    "- 피쳐개수 : 3개\n",
    "- 타겟개수 : 1개\n",
    "- 클래스이름 : IrisDataSet\n",
    "- 부모클래스 : utils.data.DataSet\n",
    "- 속성__필드 : featureDF, targetDF, n_rows, n_featrues  \n",
    "- 필수 메서드:   \n",
    "    *__init__(self) : 데이터셋 저장 및 전처리, 개발자가 필요한 속성 설정  \n",
    "    *__len__(self) : 데이터의 개수 반환  \n",
    "    *__getItem__(self, index) : 특정 인덱스의 피쳐와 타겟 반환  "
   ]
  },
  {
   "cell_type": "code",
   "execution_count": 7,
   "metadata": {},
   "outputs": [],
   "source": [
    "class IrisDataset(Dataset):\n",
    "\n",
    "    def __init__(self, featureDF, targetDF):\n",
    "        self.featureDF=featureDF\n",
    "        self.targetDF=targetDF\n",
    "        self.n_rows=featureDF.shape[0]\n",
    "        self.n_features=featureDF.shape[1]\n",
    "        \n",
    "\n",
    "    def __len__(self):\n",
    "        return self.n_rows\n",
    "\n",
    "    def __getitem__(self, index):\n",
    "        # 텐서화\n",
    "        featureTS=torch.FloatTensor(self.featureDF.iloc[index].values)\n",
    "        targetTS=torch.FloatTensor(self.targetDF.iloc[index].values)\n",
    "        return featureTS, targetTS"
   ]
  },
  {
   "cell_type": "code",
   "execution_count": 8,
   "metadata": {},
   "outputs": [],
   "source": [
    "# 데이터셋 인스턴스 생성\n",
    "featureDF = irisdf[irisdf.columns[:-1]] # 2D (150,3)\n",
    "targetDF = irisdf[irisdf.columns[-1:]] # 1D(150,1)\n",
    "\n",
    "\n",
    "irisDS=IrisDataset(featureDF,targetDF)\n"
   ]
  },
  {
   "cell_type": "markdown",
   "metadata": {},
   "source": [
    "[4] 학습 준비\n",
    "- 학습 횟수 : EPOCH ( 처음부터 끝까지 공부할 횟수 )\n",
    "- 배치 크기 : BATCH_SIZE(학습량)\n",
    "- 위치 지정 : DEVICE (텐서 저장 및 실행 위치 GPU/CPU)\n",
    "- 학 습 률  : 가중치와 절편 업데이트 시 경사하강법으로 업데이트 간격 설정 0.001~0.1\n",
    "- "
   ]
  },
  {
   "cell_type": "code",
   "execution_count": 9,
   "metadata": {},
   "outputs": [],
   "source": [
    "# 학습 진행 관련 설정 값\n",
    "EPOCH = 10\n",
    "BATCH_SIZE = 10\n",
    "DEVICE = 'cuda' if torch.cuda.is_available() else 'cpu'\n",
    "LR = 0.001\n"
   ]
  },
  {
   "cell_type": "markdown",
   "metadata": {},
   "source": [
    "- 인스턴스 : 모델, 데이터 셋, 최적화 (, 성능지표) "
   ]
  },
  {
   "cell_type": "code",
   "execution_count": 10,
   "metadata": {},
   "outputs": [
    {
     "name": "stdout",
     "output_type": "stream",
     "text": [
      "(84, 3) (38, 3) (28, 3)\n",
      "(84, 1) (38, 1) (28, 1)\n"
     ]
    }
   ],
   "source": [
    "# 모델 인스턴스\n",
    "model = IrisRegModel()\n",
    "\n",
    "# 데이터셋 인스턴스\n",
    "X_train, X_test, y_train, y_test = train_test_split(featureDF, targetDF, random_state=1)\n",
    "\n",
    "X_train, X_val, y_train, y_val = train_test_split(X_train, y_train, random_state=1)\n",
    "print(f'{X_train.shape} {X_test.shape} {X_val.shape}')\n",
    "print(f'{y_train.shape} {y_test.shape} {y_val.shape}')\n",
    "\n",
    "\n",
    "trainDS = IrisDataset(X_train, y_train)\n",
    "testDS = IrisDataset(X_test, y_test)\n",
    "valDS = IrisDataset(X_val, y_val)\n",
    "\n",
    "# 데이터 로더 인스턴스\n",
    "trainDL=DataLoader(trainDS, batch_size=BATCH_SIZE)\n",
    "\n",
    "# 최적화"
   ]
  },
  {
   "cell_type": "code",
   "execution_count": 11,
   "metadata": {},
   "outputs": [
    {
     "name": "stdout",
     "output_type": "stream",
     "text": [
      "torch.Size([10, 3]) torch.Size([10, 1])\n"
     ]
    }
   ],
   "source": [
    "## 테스트\n",
    "for feature, target in trainDL:\n",
    "    print(feature.shape, target.shape)\n",
    "    break"
   ]
  },
  {
   "cell_type": "code",
   "execution_count": 12,
   "metadata": {},
   "outputs": [],
   "source": [
    "\n",
    "# 최적화 인스턴스 => w, b model.parameter 전달\n",
    "optimizer=optim.Adam(model.parameters(), lr=LR)\n",
    "\n",
    "\n",
    "# 손실함수 인스턴스\n",
    "reqLoss=nn.MSELoss()"
   ]
  },
  {
   "cell_type": "markdown",
   "metadata": {},
   "source": [
    "[5] 학습 진행"
   ]
  },
  {
   "cell_type": "code",
   "execution_count": 21,
   "metadata": {},
   "outputs": [],
   "source": [
    "### models 폴더 아래 프로젝트 폴더 아래 모델 파일을 저장\n",
    "import os\n",
    "\n",
    "# 저장 경로\n",
    "SAVE_PATH = '../models/iris/'\n",
    "\n",
    "# 저장 파일명\n",
    "SAVE_FILE = 'model_train_wbs.pth'\n",
    "\n",
    "# 경로상 폴더 존재 여부 체크\n",
    "if not os.path.exists(SAVE_PATH):\n",
    "    os.makedirs(SAVE_PATH) # 폴더 / 폴더 / ... 하위 폴더까지 생성\n",
    "\n",
    "# 모델 구조 및 파라미터 모두 저장 파일명명\n",
    "SAVE_MODEL='model_all.pth'"
   ]
  },
  {
   "cell_type": "code",
   "execution_count": 22,
   "metadata": {},
   "outputs": [
    {
     "name": "stdout",
     "output_type": "stream",
     "text": [
      "CNT => 15.0\n"
     ]
    }
   ],
   "source": [
    "## 학습의 효과 확인 손실값과 성능평가값 저장 필요\n",
    "LOSS_HISTORY, SCORE_HISTORY=[[],[]], [[],[]]\n",
    "CNT = irisDS.n_rows / BATCH_SIZE\n",
    "print(f'CNT => {CNT}')\n",
    "\n",
    "# 학습 모니터링 / 스케쥴링 설정\n",
    "# => LOSS_HISTORY, SCORE_HISTORY 활용\n",
    "# => 임계기준 : 10번\n",
    "BREAK_CNT = 0\n",
    "\n",
    "\n",
    "# 학습 모드로 모델 설정\n",
    "model.train()\n",
    "\n",
    "for epoch in range(EPOCH):\n",
    "\n",
    "    # 학습 모드로 모델 설정\n",
    "    model.train()\n",
    "\n",
    "    # 배치크기만큼 데이터 로딩해서 학습 진행\n",
    "    loss_total, score_total = 0,0\n",
    "\n",
    "    for featureTS, targetTS in trainDL:\n",
    "\n",
    "        #학습 진행\n",
    "        pre_y=model(featureTS)\n",
    "\n",
    "        #손실 계산\n",
    "        loss=reqLoss(pre_y, targetTS)\n",
    "        loss_total += loss.item()\n",
    "\n",
    "\n",
    "        #성능평가 계산\n",
    "        score=R2Score()(pre_y, targetTS)\n",
    "        score_total += score.item()\n",
    "\n",
    "        #최적화 진행\n",
    "        optimizer.zero_grad()\n",
    "        loss.backward()\n",
    "        optimizer.step()\n",
    "    \n",
    "    # 에폭당 검증 기능을 키겠다.\n",
    "    # 모델 검증 모드 설정\n",
    "    model.eval()\n",
    "    with torch.no_grad():\n",
    "        # 검증 데이터셋\n",
    "        val_featureTS=torch.FloatTensor(valDS.featureDF.values)\n",
    "        val_targetTS=torch.FloatTensor(valDS.targetDF.values)\n",
    "        \n",
    "        #평가\n",
    "        pre_val=model(val_featureTS)\n",
    "\n",
    "        #손실\n",
    "        loss_val=reqLoss(pre_val, val_targetTS)\n",
    "\n",
    "        # 성능평가\n",
    "        score_val = R2Score()(pre_val, val_targetTS)\n",
    "\n",
    "    # 에폭당 손실값과 성능평가 값 저장\n",
    "    LOSS_HISTORY[0].append(loss_total/BATCH_SIZE)\n",
    "    SCORE_HISTORY[0].append(score_total/BATCH_SIZE)\n",
    "\n",
    "    LOSS_HISTORY[1].append(loss_val)\n",
    "    SCORE_HISTORY[1].append(score_val)\n",
    "\n",
    "    # 학습 진행 모니터링 / 스케쥴링\n",
    "    # # 손실 기준\n",
    "    # if len(LOSS_HISTORY[0]) > 1:\n",
    "    #    if LOSS_HISTORY[1][-1] >= LOSS_HISTORY[1][-2] : BREAK_CNT +=1\n",
    "    # 성능이 좋아진걸 다 파일로 담고 싶을 때 SAVE_FILE = f'model_train_wbs_{epoch}_{score_val}.pth'\n",
    "\n",
    "\n",
    "    # 성능 기준\n",
    "    if len(SCORE_HISTORY[1]) == 1: # 첫번째 횟수 저장\n",
    "       torch.save(model.state_dict(), SAVE_PATH + SAVE_FILE)\n",
    "\n",
    "       # 모델 전체 저장\n",
    "       torch.save(model, SAVE_PATH + SAVE_MODEL)\n",
    "    else:\n",
    "        if SCORE_HISTORY[1][-1] > max(SCORE_HISTORY[1][:-1]) : # 첫번째 점수랑 두번째 점수 비교 후 더 성능이 큰쪽을 저장\n",
    "            torch.save(model.state_dict(), SAVE_PATH + SAVE_FILE)\n",
    "            torch.save(model, SAVE_PATH + SAVE_FILE)\n",
    "\n",
    "    # 성능이 좋은 학습 가중치 저장\n",
    "\n",
    "    \n",
    "    # 학습중단\n",
    "    if BREAK_CNT >10:\n",
    "        print('성능 및 손실 개선이 없어서 학습 중단') \n",
    "        break\n",
    "\n"
   ]
  },
  {
   "cell_type": "code",
   "execution_count": 13,
   "metadata": {},
   "outputs": [
    {
     "name": "stdout",
     "output_type": "stream",
     "text": [
      "[[4.622160577774048, 2.8437670469284058, 1.6159888982772828, 0.8612407445907593, 0.4825149983167648, 0.3434994637966156, 0.3045129060745239, 0.2776761993765831, 0.24658086895942688, 0.21839893758296966], [tensor(3.3580), tensor(1.9429), tensor(1.0418), tensor(0.5873), tensor(0.4351), tensor(0.4172), tensor(0.4025), tensor(0.3575), tensor(0.3045), tensor(0.2594)]]\n",
      "[[-9.084650373458862, -5.277884459495544, -2.630307745933533, -0.9816407799720764, -0.13346655964851378, 0.193197500705719, 0.2886703312397003, 0.3442302465438843, 0.4038241982460022, 0.4571122109889984], [tensor(-4.2021), tensor(-2.0099), tensor(-0.6139), tensor(0.0901), tensor(0.3259), tensor(0.3537), tensor(0.3764), tensor(0.4462), tensor(0.5283), tensor(0.5981)]]\n"
     ]
    }
   ],
   "source": [
    "print(LOSS_HISTORY)\n",
    "print(SCORE_HISTORY)"
   ]
  },
  {
   "cell_type": "markdown",
   "metadata": {},
   "source": [
    "- 모델 저장 방법 <hr>\n",
    "* 방법 1 : 모델 파라미터만 저장\n",
    "* 방법 2 : 모델 설계 구조 및 파라미터까지 모두 저장\n"
   ]
  },
  {
   "cell_type": "code",
   "execution_count": 16,
   "metadata": {},
   "outputs": [
    {
     "data": {
      "text/plain": [
       "OrderedDict([('in_layer.weight',\n",
       "              tensor([[ 0.4294, -0.1866, -0.3250],\n",
       "                      [-0.2630,  0.1907, -0.2610],\n",
       "                      [ 0.3991,  0.0131,  0.2289],\n",
       "                      [ 0.1383, -0.3683,  0.3524],\n",
       "                      [-0.5571, -0.5640, -0.2533],\n",
       "                      [-0.5369, -0.0483, -0.2632],\n",
       "                      [-0.0092, -0.4191, -0.3201],\n",
       "                      [ 0.5375, -0.1915,  0.4072],\n",
       "                      [-0.5737, -0.2079, -0.0431],\n",
       "                      [ 0.4088,  0.5008, -0.4124]])),\n",
       "             ('in_layer.bias',\n",
       "              tensor([ 0.2869, -0.2863, -0.1278, -0.3487,  0.2373, -0.3904,  0.1875, -0.4133,\n",
       "                       0.4756,  0.1231])),\n",
       "             ('hidden_layer.weight',\n",
       "              tensor([[ 1.3026e-01, -2.2578e-02,  2.4019e-02, -9.4844e-02, -2.8551e-01,\n",
       "                       -2.4399e-02,  4.9848e-02,  1.3181e-01, -2.7374e-01,  1.4921e-01],\n",
       "                      [-2.7451e-02, -4.4807e-02,  9.8158e-02, -3.5809e-01,  6.2636e-02,\n",
       "                       -4.6158e-02,  1.0783e-01,  7.7252e-02,  1.7042e-01,  2.3794e-01],\n",
       "                      [-2.7012e-01,  2.5835e-01, -9.5833e-02,  2.8480e-02,  1.2363e-02,\n",
       "                        2.3088e-01, -1.6795e-01, -8.0424e-02, -1.1776e-01, -1.6269e-01],\n",
       "                      [ 2.1313e-01,  9.3890e-02, -1.6776e-01,  1.3908e-01, -2.9176e-01,\n",
       "                        2.2056e-01,  2.2423e-01,  3.6897e-02, -7.9978e-02,  3.1807e-01],\n",
       "                      [-2.5473e-01,  1.0728e-01,  1.1195e-01,  1.6273e-01,  6.1592e-02,\n",
       "                        2.9216e-02,  1.0898e-01, -2.9590e-02,  1.4570e-01,  2.5151e-01],\n",
       "                      [-3.2121e-02, -8.6956e-02,  3.9732e-03, -1.2540e-01, -7.9523e-02,\n",
       "                        7.1739e-02,  1.9299e-01,  3.5286e-01, -9.9575e-02,  1.6371e-01],\n",
       "                      [ 7.8950e-02, -2.8465e-01,  2.5087e-01, -9.3743e-02,  3.7571e-02,\n",
       "                        3.9484e-02, -2.9801e-02,  2.5079e-01,  2.8989e-02,  2.3040e-01],\n",
       "                      [ 1.6361e-01, -1.6755e-01,  2.0306e-01, -3.0029e-01,  2.8516e-01,\n",
       "                        1.5070e-01, -1.1247e-04, -1.2416e-01,  2.0281e-01,  2.3768e-01],\n",
       "                      [-1.6124e-01, -1.9697e-01,  2.6383e-02,  2.2029e-01,  7.3960e-03,\n",
       "                        2.6924e-02,  2.1408e-01,  1.4872e-01,  2.6431e-01, -1.1727e-01],\n",
       "                      [-1.5051e-01, -5.0183e-02,  1.7274e-03,  2.7238e-01, -5.6377e-02,\n",
       "                        3.0120e-01, -2.0597e-01, -2.7013e-01, -1.1358e-02, -6.9495e-02],\n",
       "                      [ 5.8599e-02,  8.7137e-03,  1.8059e-01,  1.6936e-01, -1.5404e-01,\n",
       "                        7.4284e-02, -2.6700e-01, -6.2584e-03, -7.3182e-02,  2.8132e-01],\n",
       "                      [ 6.9415e-03, -7.8196e-02,  1.3812e-02, -3.5634e-01,  8.1466e-02,\n",
       "                        8.2945e-02,  3.8204e-02,  2.5299e-01, -1.9603e-01,  6.0391e-02],\n",
       "                      [ 1.2531e-01,  3.1249e-01, -2.6412e-01, -2.2132e-01,  1.2822e-01,\n",
       "                       -2.8272e-01, -1.7650e-01,  1.6517e-02,  1.5932e-01, -3.0057e-01],\n",
       "                      [ 2.5032e-01,  2.1566e-01,  2.6023e-01, -2.9391e-01,  1.1793e-01,\n",
       "                        1.9912e-01,  2.1935e-01,  2.0143e-01, -5.9731e-02, -6.3769e-02],\n",
       "                      [-1.6503e-01,  1.8399e-01,  2.4090e-01, -1.8181e-01, -3.0616e-01,\n",
       "                        1.8009e-01, -2.1802e-01, -2.8223e-01, -2.0783e-03,  3.2480e-01],\n",
       "                      [ 2.2708e-01, -2.8687e-01, -2.7119e-01,  1.3536e-01,  5.0417e-02,\n",
       "                       -7.7909e-02,  7.4735e-02, -6.6387e-02,  2.4348e-02,  1.7624e-01],\n",
       "                      [-2.0842e-01,  1.3121e-01, -4.7173e-04,  5.8633e-02,  3.0506e-01,\n",
       "                       -7.4075e-02, -3.0544e-02,  1.1876e-01,  1.6437e-01,  1.5343e-01],\n",
       "                      [-3.2852e-01, -2.8225e-01,  9.8985e-02,  2.8947e-01, -4.9784e-03,\n",
       "                       -2.2038e-01,  3.8361e-02, -1.2596e-01, -9.3699e-02,  2.5619e-01],\n",
       "                      [ 1.3993e-01, -5.4228e-02,  3.3644e-01,  3.3257e-01,  1.9861e-01,\n",
       "                       -3.4009e-02, -2.0403e-01,  2.7056e-01, -2.3490e-02, -6.1115e-02],\n",
       "                      [-1.2981e-01,  1.5209e-01,  3.7375e-02,  1.0938e-01, -5.4443e-03,\n",
       "                       -2.8703e-01,  2.1151e-01,  2.3364e-01, -2.5093e-01,  9.3571e-02],\n",
       "                      [-3.4925e-02,  2.6411e-01, -2.9541e-01,  2.8795e-02,  4.9012e-02,\n",
       "                       -1.6785e-01, -9.4824e-02,  1.6471e-02,  2.9297e-01,  1.8469e-01],\n",
       "                      [ 3.1310e-01,  8.0793e-02,  9.0903e-02,  2.8388e-01,  2.6166e-01,\n",
       "                        2.0846e-01,  3.8399e-02, -2.1020e-01, -6.3792e-02,  2.7081e-01],\n",
       "                      [-1.7069e-01, -7.9770e-02,  1.0870e-01, -3.0773e-01, -2.7979e-01,\n",
       "                       -2.5196e-01, -2.6336e-01,  2.4539e-01, -1.2715e-01, -2.3052e-02],\n",
       "                      [-1.1121e-01,  6.6348e-02,  3.3554e-01, -1.6957e-01,  2.3321e-01,\n",
       "                        1.3658e-02,  3.1226e-01,  1.7848e-01, -1.7482e-01, -1.2380e-01],\n",
       "                      [ 1.2879e-02, -3.1452e-01,  5.0979e-03,  9.4902e-02, -1.6185e-01,\n",
       "                       -1.3455e-01, -8.9078e-02, -2.0378e-02, -1.7529e-01,  1.9970e-01],\n",
       "                      [-2.7861e-01, -3.3056e-02,  1.5361e-01,  1.2916e-01, -2.8745e-01,\n",
       "                       -8.8001e-02, -6.6389e-02, -1.5284e-01, -1.8917e-01, -7.9500e-02],\n",
       "                      [ 2.0406e-02, -6.8347e-02,  1.4542e-01,  6.1865e-02,  2.6981e-01,\n",
       "                       -1.1407e-01,  2.1417e-01,  3.4576e-01,  3.0986e-01, -1.2263e-02],\n",
       "                      [-2.6168e-01, -2.4578e-01,  8.5974e-02,  1.9491e-01,  8.2340e-02,\n",
       "                       -8.6374e-02, -2.7833e-02,  2.4663e-01, -7.3771e-02,  1.4584e-01],\n",
       "                      [-2.8958e-01, -9.2931e-02,  1.2558e-01,  1.9057e-02,  2.5488e-01,\n",
       "                        1.3791e-01,  2.9164e-01, -6.2411e-02, -5.8090e-03,  1.4351e-01],\n",
       "                      [ 4.2549e-02,  1.8818e-01,  1.1700e-01,  7.5191e-02, -1.5867e-01,\n",
       "                       -2.5812e-01, -2.5209e-01,  1.5842e-01,  6.6645e-02,  2.3648e-01]])),\n",
       "             ('hidden_layer.bias',\n",
       "              tensor([ 8.6897e-02,  1.2393e-01,  2.8868e-01,  2.3246e-01,  2.5665e-01,\n",
       "                      -2.6229e-01, -2.4618e-01,  2.8131e-02,  2.0371e-01,  2.2177e-01,\n",
       "                       1.3533e-01,  1.9080e-01,  1.9893e-01,  2.8385e-02, -2.2653e-01,\n",
       "                      -1.9267e-01,  1.6598e-01,  1.5273e-01,  8.4527e-02,  1.7318e-02,\n",
       "                      -4.9476e-02,  3.0482e-01, -9.3290e-02, -1.4608e-01,  1.3978e-01,\n",
       "                       2.2054e-01,  3.4224e-01,  2.2686e-02,  2.1912e-04,  2.1969e-01])),\n",
       "             ('out_layer.weight',\n",
       "              tensor([[ 0.1598, -0.1238,  0.0150,  0.1042,  0.0775,  0.0818, -0.1445, -0.1554,\n",
       "                        0.1710,  0.1585,  0.2094, -0.0328,  0.0211, -0.0182, -0.0962, -0.0463,\n",
       "                       -0.0219,  0.0188,  0.1175,  0.1269,  0.0279,  0.1809, -0.1396,  0.0599,\n",
       "                        0.1102, -0.0783,  0.0921,  0.1410, -0.1465, -0.0454]])),\n",
       "             ('out_layer.bias', tensor([0.0883]))])"
      ]
     },
     "execution_count": 16,
     "metadata": {},
     "output_type": "execute_result"
    }
   ],
   "source": [
    "# 학습된 모델 파라미터 값 확인\n",
    "model.state_dict()"
   ]
  },
  {
   "cell_type": "markdown",
   "metadata": {},
   "source": [
    "- 방법1 : 모델 파라미터 즉, 층별 가중치와 절편들"
   ]
  },
  {
   "cell_type": "code",
   "execution_count": 17,
   "metadata": {},
   "outputs": [],
   "source": [
    "### models 폴더 아래 프로젝트 폴더 아래 모델 파일을 저장\n",
    "import os\n",
    "\n",
    "# 저장 경로\n",
    "SAVE_PATH = '../models/iris/'\n",
    "\n",
    "# 저장 파일명\n",
    "SAVE_FILE = 'model_train_wbs.pth'"
   ]
  },
  {
   "cell_type": "code",
   "execution_count": 20,
   "metadata": {},
   "outputs": [],
   "source": [
    "# 경로상 폴더 존재 여부 체크\n",
    "if not os.path.exists(SAVE_PATH):\n",
    "    os.makedirs(SAVE_PATH) # 폴더 / 폴더 / ... 하위 폴더까지 생성\n"
   ]
  },
  {
   "cell_type": "code",
   "execution_count": 23,
   "metadata": {},
   "outputs": [],
   "source": [
    "# 모델 저장\n",
    "torch.save(model.state_dict(), SAVE_PATH + SAVE_FILE)"
   ]
  },
  {
   "cell_type": "code",
   "execution_count": 27,
   "metadata": {},
   "outputs": [
    {
     "name": "stderr",
     "output_type": "stream",
     "text": [
      "C:\\Users\\KDP-26\\AppData\\Local\\Temp\\ipykernel_12524\\1308290621.py:6: FutureWarning: You are using `torch.load` with `weights_only=False` (the current default value), which uses the default pickle module implicitly. It is possible to construct malicious pickle data which will execute arbitrary code during unpickling (See https://github.com/pytorch/pytorch/blob/main/SECURITY.md#untrusted-models for more details). In a future release, the default value for `weights_only` will be flipped to `True`. This limits the functions that could be executed during unpickling. Arbitrary objects will no longer be allowed to be loaded via this mode unless they are explicitly allowlisted by the user via `torch.serialization.add_safe_globals`. We recommend you start setting `weights_only=True` for any use case where you don't have full control of the loaded file. Please open an issue on GitHub for any issues related to this experimental feature.\n",
      "  wbTS=torch.load( SAVE_PATH + SAVE_FILE)\n"
     ]
    },
    {
     "data": {
      "text/plain": [
       "<All keys matched successfully>"
      ]
     },
     "execution_count": 27,
     "metadata": {},
     "output_type": "execute_result"
    }
   ],
   "source": [
    "# 모델 즉, 가중치와 절편 로딩\n",
    "# 1. 가중치와 절편 객체로 로딩\n",
    "# 2. 모델의 state_dict 속성에 저장\n",
    "\n",
    "# 읽기\n",
    "wbTS=torch.load( SAVE_PATH + SAVE_FILE)\n",
    "\n",
    "# 모델 인스턴스에 저장\n",
    "model2 = IrisRegModel()\n",
    "model2.load_state_dict(wbTS)"
   ]
  }
 ],
 "metadata": {
  "kernelspec": {
   "display_name": "TORCH_38",
   "language": "python",
   "name": "python3"
  },
  "language_info": {
   "codemirror_mode": {
    "name": "ipython",
    "version": 3
   },
   "file_extension": ".py",
   "mimetype": "text/x-python",
   "name": "python",
   "nbconvert_exporter": "python",
   "pygments_lexer": "ipython3",
   "version": "3.8.19"
  }
 },
 "nbformat": 4,
 "nbformat_minor": 2
}
