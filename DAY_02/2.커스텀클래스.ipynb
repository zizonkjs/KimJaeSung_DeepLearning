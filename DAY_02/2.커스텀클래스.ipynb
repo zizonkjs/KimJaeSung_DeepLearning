{
 "cells": [
  {
   "cell_type": "markdown",
   "metadata": {},
   "source": [
    "#### 클래스 - 연산자 오버로딩(Overloading)\n",
    "    * 오버로딩(Overloading)\n",
    "        -함수명은 동일하지만 매개변수의 개수, 종류, 순서가 다르면 다른 함수로 인식함\n",
    "        - 파이썬에서는 연산자(+,-,*,/,...)에 대한 매직함수/메서드가 미리 정의 되어 있음\n",
    "        - 연산자 매직함수/메서드는 클래스별로 오버로딩하도록 되어 있음.\n",
    "        "
   ]
  },
  {
   "cell_type": "code",
   "execution_count": 32,
   "metadata": {},
   "outputs": [],
   "source": [
    "## 저장데이터 : 햄버거\n",
    "## 클래스이름 : Bugger\n",
    "## 클래스 속성 : 번, 패티, 야채, 소스, 이름, 가격\n",
    "## 공통 속성 : 브랜드(클래스속성으로 공유)\n",
    "##            브랜드 외 나머지 : 인스턴스 속성\n",
    "## 클래스 기능 : 버거 정보 제공\n",
    "\n",
    "class Bugger:\n",
    "    # 클래스 속성\n",
    "    brand = '맘스터치'\n",
    "\n",
    "    # 인스턴스 생성자 메서드\n",
    "    # self : 인스턴스 정보가 저장될 메모리 정보\n",
    "    def __init__(self, bun, patty, veg, source, name, price):\n",
    "        self.bun = bun\n",
    "        self.patty = patty\n",
    "        self.veg = veg\n",
    "        self.source = source\n",
    "        self.name = name\n",
    "        self.price = price\n",
    "    \n",
    "    # 인스턴스 메서드 : 객체를 생성해야지 사용 할 수 있는 메서드임\n",
    "    def showBuggrInfo(self):\n",
    "        print(f'[{self.name}] 정보')\n",
    "        print(f'가격 : [{self.price}] 정보')\n",
    "        print(f'구성 : [{self.bun}, {self.patty}, {self.veg}] 정보')\n",
    "\n",
    "    # 연산자 오버로딩\n",
    "    def __add__(self, other):\n",
    "        print('__add__')\n",
    "        return self.price + other.price\n",
    "    \n",
    "    def __mul__(self, other):\n",
    "        print('__mul__')\n",
    "        return self.price * other\n",
    "    \n",
    "    "
   ]
  },
  {
   "cell_type": "markdown",
   "metadata": {},
   "source": [
    "- 인스턴스 객체 생성=> 메모리 힙(Heap)"
   ]
  },
  {
   "cell_type": "code",
   "execution_count": 33,
   "metadata": {},
   "outputs": [
    {
     "name": "stdout",
     "output_type": "stream",
     "text": [
      "브리오슈 소고기 양상추 스리라차 스리라차 소고기버거 4900\n",
      "참깨빵 치킨 토마토 케챱 케챱 치킨버거 5900\n",
      "보리빵 양고기 피클 마요네즈 마요네즈 양고기버거 3900\n"
     ]
    }
   ],
   "source": [
    "## 생성 문법 : 변수명 = 클래스명(속성1, 속성2, 인자(매개변수))\n",
    "momstouch = Bugger('브리오슈', '소고기', '양상추', '스리라차','소고기버거', 4900)\n",
    "momstouch2 = Bugger('참깨빵', '치킨', '토마토', '케챱','치킨버거', 5900)\n",
    "momstouch3 = Bugger('보리빵', '양고기', '피클', '마요네즈','양고기버거', 3900)\n",
    "print(momstouch.bun, momstouch.patty, momstouch.veg, momstouch.source, momstouch.source, momstouch.name, momstouch.price)\n",
    "print(momstouch2.bun, momstouch2.patty, momstouch2.veg, momstouch2.source, momstouch2.source, momstouch2.name, momstouch2.price)\n",
    "print(momstouch3.bun, momstouch3.patty, momstouch3.veg, momstouch3.source, momstouch3.source, momstouch3.name, momstouch3.price)"
   ]
  },
  {
   "cell_type": "code",
   "execution_count": 34,
   "metadata": {},
   "outputs": [
    {
     "name": "stdout",
     "output_type": "stream",
     "text": [
      "[양고기버거] 정보\n",
      "가격 : [3900] 정보\n",
      "구성 : [보리빵, 양고기, 피클] 정보\n"
     ]
    }
   ],
   "source": [
    "momstouch3.showBuggrInfo()"
   ]
  },
  {
   "cell_type": "markdown",
   "metadata": {},
   "source": [
    "- 인스턴스/객체 연산"
   ]
  },
  {
   "cell_type": "code",
   "execution_count": 35,
   "metadata": {},
   "outputs": [
    {
     "data": {
      "text/plain": [
       "('happynew', [1, 2, 3, 'a', 'b'])"
      ]
     },
     "execution_count": 35,
     "metadata": {},
     "output_type": "execute_result"
    }
   ],
   "source": [
    "'happy' + 'new', [1,2,3]+['a','b']"
   ]
  },
  {
   "cell_type": "code",
   "execution_count": 36,
   "metadata": {},
   "outputs": [
    {
     "name": "stdout",
     "output_type": "stream",
     "text": [
      "__add__\n",
      "__mul__\n"
     ]
    },
    {
     "data": {
      "text/plain": [
       "(10800, 49000)"
      ]
     },
     "execution_count": 36,
     "metadata": {},
     "output_type": "execute_result"
    }
   ],
   "source": [
    "momstouch+momstouch2, momstouch*10"
   ]
  },
  {
   "cell_type": "markdown",
   "metadata": {},
   "source": [
    "- 최상위 부모 클래스 == Object"
   ]
  },
  {
   "cell_type": "code",
   "execution_count": 37,
   "metadata": {},
   "outputs": [],
   "source": [
    "class A:\n",
    "    pass"
   ]
  },
  {
   "cell_type": "code",
   "execution_count": 38,
   "metadata": {},
   "outputs": [],
   "source": [
    "a=A()"
   ]
  },
  {
   "cell_type": "code",
   "execution_count": 40,
   "metadata": {},
   "outputs": [
    {
     "data": {
      "text/plain": [
       "['__module__',\n",
       " '__dict__',\n",
       " '__weakref__',\n",
       " '__doc__',\n",
       " '__repr__',\n",
       " '__hash__',\n",
       " '__str__',\n",
       " '__getattribute__',\n",
       " '__setattr__',\n",
       " '__delattr__',\n",
       " '__lt__',\n",
       " '__le__',\n",
       " '__eq__',\n",
       " '__ne__',\n",
       " '__gt__',\n",
       " '__ge__',\n",
       " '__init__',\n",
       " '__new__',\n",
       " '__reduce_ex__',\n",
       " '__reduce__',\n",
       " '__subclasshook__',\n",
       " '__init_subclass__',\n",
       " '__format__',\n",
       " '__sizeof__',\n",
       " '__dir__',\n",
       " '__class__']"
      ]
     },
     "execution_count": 40,
     "metadata": {},
     "output_type": "execute_result"
    }
   ],
   "source": [
    "a.__dir__()"
   ]
  },
  {
   "cell_type": "code",
   "execution_count": null,
   "metadata": {},
   "outputs": [],
   "source": []
  }
 ],
 "metadata": {
  "kernelspec": {
   "display_name": "TORCH_38",
   "language": "python",
   "name": "python3"
  },
  "language_info": {
   "codemirror_mode": {
    "name": "ipython",
    "version": 3
   },
   "file_extension": ".py",
   "mimetype": "text/x-python",
   "name": "python",
   "nbconvert_exporter": "python",
   "pygments_lexer": "ipython3",
   "version": "3.8.19"
  }
 },
 "nbformat": 4,
 "nbformat_minor": 2
}
