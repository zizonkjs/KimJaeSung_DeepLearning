{
 "cells": [
  {
   "cell_type": "markdown",
   "metadata": {},
   "source": [
    "#### TenSor 변환"
   ]
  },
  {
   "cell_type": "code",
   "execution_count": 15,
   "metadata": {},
   "outputs": [],
   "source": [
    "import torch\n"
   ]
  },
  {
   "cell_type": "markdown",
   "metadata": {},
   "source": [
    "- Python 객체 ==> Tensor 변환\n",
    "- torch.as_tensor()\n",
    "    * 동일 타입과 디바이스를 가진 데이터 존재 ==> view 즉, 데이터 공유\n",
    "    * 다른타입 또는 다른 디바이스를 가진 데이터 존재 ==> copy 즉, 생성\n",
    "    * view tensor() 또는 copy tensor 반환"
   ]
  },
  {
   "cell_type": "code",
   "execution_count": 16,
   "metadata": {},
   "outputs": [
    {
     "name": "stdout",
     "output_type": "stream",
     "text": [
      "tensor([1, 2, 3, 4, 5, 6, 7, 8, 9], dtype=torch.int8) torch.Size([9]) 1\n"
     ]
    }
   ],
   "source": [
    "### List ==> Tensor\n",
    "data = list(range(1, 10))\n",
    "dataTS = torch.as_tensor(data, dtype=torch.int8)\n",
    "print(dataTS, dataTS.shape, dataTS.ndim)\n"
   ]
  },
  {
   "cell_type": "code",
   "execution_count": 17,
   "metadata": {},
   "outputs": [
    {
     "data": {
      "text/plain": [
       "([100, 2, 3, 4, 5, 6, 7, 8, 9],\n",
       " tensor([1, 2, 3, 4, 5, 6, 7, 8, 9], dtype=torch.int8))"
      ]
     },
     "execution_count": 17,
     "metadata": {},
     "output_type": "execute_result"
    }
   ],
   "source": [
    "data[0] = 100\n",
    "data, dataTS"
   ]
  },
  {
   "cell_type": "markdown",
   "metadata": {},
   "source": [
    "- Numpy ndarray 객체 ==> Tensor 변환"
   ]
  },
  {
   "cell_type": "code",
   "execution_count": 18,
   "metadata": {},
   "outputs": [],
   "source": [
    "import numpy as np"
   ]
  },
  {
   "cell_type": "code",
   "execution_count": 19,
   "metadata": {},
   "outputs": [
    {
     "data": {
      "text/plain": [
       "(array([1, 2, 3]), dtype('int32'), 1)"
      ]
     },
     "execution_count": 19,
     "metadata": {},
     "output_type": "execute_result"
    }
   ],
   "source": [
    "arr1=np.array([1,2,3])\n",
    "arr1, arr1.dtype, arr1.ndim"
   ]
  },
  {
   "cell_type": "code",
   "execution_count": 20,
   "metadata": {},
   "outputs": [
    {
     "data": {
      "text/plain": [
       "tensor([1, 2, 3], dtype=torch.int32)"
      ]
     },
     "execution_count": 20,
     "metadata": {},
     "output_type": "execute_result"
    }
   ],
   "source": [
    "arrTS=torch.as_tensor(arr1)\n",
    "arrTS"
   ]
  },
  {
   "cell_type": "code",
   "execution_count": 23,
   "metadata": {},
   "outputs": [
    {
     "data": {
      "text/plain": [
       "(array([99,  2,  3]), tensor([99,  2,  3], dtype=torch.int32))"
      ]
     },
     "execution_count": 23,
     "metadata": {},
     "output_type": "execute_result"
    }
   ],
   "source": [
    "arr1[0]=99\n",
    "arr1, arrTS"
   ]
  },
  {
   "cell_type": "code",
   "execution_count": 24,
   "metadata": {},
   "outputs": [],
   "source": [
    "# 벡터를 기준 512 이상 비트의 큰 사이즈 리스트의 tensor 변환에 적합\n"
   ]
  },
  {
   "cell_type": "markdown",
   "metadata": {},
   "source": [
    "- Numpy ndarray ==> Tensor 변환 : from_numpy()\n"
   ]
  },
  {
   "cell_type": "code",
   "execution_count": 35,
   "metadata": {},
   "outputs": [
    {
     "name": "stdout",
     "output_type": "stream",
     "text": [
      "[[5. 7. 9.]\n",
      " [1. 2. 3.]] <memory at 0x0000016934BA1040> 6 4 (12, 4)\n"
     ]
    }
   ],
   "source": [
    "arr1 = np.array([[5,7,9],[1,2,3]], dtype=np.float32)\n",
    "print(arr1, arr1.data, arr1.size, arr1.itemsize, arr1.strides)\n"
   ]
  },
  {
   "cell_type": "markdown",
   "metadata": {},
   "source": [
    "이 코드는 `numpy` 라이브러리를 사용하여 2차원 배열을 생성하고, 그 배열의 다양한 속성들을 출력하는 예제입니다. 각 요소에 대해 자세히 설명해 드리겠습니다.\n",
    "\n",
    "```python\n",
    "arr1 = np.array([[5,7,9],[1,2,3]], dtype=np.float32)\n",
    "print(arr1, arr1.data, arr1.size, arr1.itemsize, arr1.strides)\n",
    "```\n",
    "\n",
    "### 1. **`arr1 = np.array([[5,7,9],[1,2,3]], dtype=np.float32)`**\n",
    "\n",
    "- **배열 생성**:\n",
    "  - `np.array` 함수를 사용하여 2차원 배열을 생성합니다.\n",
    "  - 입력 리스트 `[[5,7,9],[1,2,3]]`는 두 개의 하위 리스트를 가지며, 각각 3개의 요소를 포함하고 있습니다.\n",
    "  - 결과적으로 `arr1`은 **2행 3열**의 형태를 갖는 2차원 배열이 됩니다.\n",
    "- **데이터 타입 지정**:\n",
    "  - `dtype=np.float32`는 배열의 요소들을 32비트 부동소수점(`float32`)으로 저장하도록 지정합니다.\n",
    "  - 따라서 배열의 모든 정수 값들은 부동소수점 형태로 변환되어 저장됩니다.\n",
    "\n",
    "**생성된 배열 `arr1`의 모습**:\n",
    "\n",
    "```python\n",
    "array([[5., 7., 9.],\n",
    "       [1., 2., 3.]], dtype=float32)\n",
    "```\n",
    "\n",
    "### 2. **`print(arr1, arr1.data, arr1.size, arr1.itemsize, arr1.strides)`**\n",
    "\n",
    "각각의 속성에 대해 설명하고, 예상되는 출력 결과를 안내해 드리겠습니다.\n",
    "\n",
    "#### a. **`arr1`**\n",
    "\n",
    "- **역할**:\n",
    "  - 배열 자체를 출력합니다.\n",
    "- **출력 내용**:\n",
    "  - 배열의 요소들이 2차원 형태로 표시됩니다.\n",
    "- **예상 출력**:\n",
    "\n",
    "  ```\n",
    "  [[5. 7. 9.]\n",
    "   [1. 2. 3.]]\n",
    "  ```\n",
    "\n",
    "#### b. **`arr1.data`**\n",
    "\n",
    "- **역할**:\n",
    "  - 배열의 **원시 메모리 버퍼**를 나타내는 버퍼 객체를 반환합니다.\n",
    "  - 배열의 데이터가 메모리 상에서 어디에 저장되어 있는지에 대한 정보를 담고 있습니다.\n",
    "- **출력 내용**:\n",
    "  - 메모리 버퍼 객체의 주소를 나타내는 문자열이 출력됩니다.\n",
    "- **예상 출력** (주소는 실행 환경에 따라 달라질 수 있습니다):\n",
    "\n",
    "  ```\n",
    "  <memory at 0x7f8c5e3a8a00>\n",
    "  ```\n",
    "\n",
    "#### c. **`arr1.size`**\n",
    "\n",
    "- **역할**:\n",
    "  - 배열의 **전체 요소 수**를 반환합니다.\n",
    "- **계산 방법**:\n",
    "  - `arr1`은 2행 3열의 배열이므로, 전체 요소 수는 `2 * 3 = 6`입니다.\n",
    "- **출력 내용**:\n",
    "\n",
    "  ```\n",
    "  6\n",
    "  ```\n",
    "\n",
    "#### d. **`arr1.itemsize`**\n",
    "\n",
    "- **역할**:\n",
    "  - 배열의 **각 요소의 메모리 크기(바이트 단위)**를 반환합니다.\n",
    "- **계산 방법**:\n",
    "  - `dtype`이 `float32`이므로, 각 요소는 `4`바이트를 차지합니다 (32비트 = 4바이트).\n",
    "- **출력 내용**:\n",
    "\n",
    "  ```\n",
    "  4\n",
    "  ```\n",
    "\n",
    "#### e. **`arr1.strides`**\n",
    "\n",
    "- **역할**:\n",
    "  - 배열의 각 차원에서 다음 요소로 이동하기 위해 건너뛰어야 하는 **바이트 수**를 나타내는 튜플을 반환합니다.\n",
    "- **계산 방법**:\n",
    "  - 첫 번째 값은 **행(row) 방향**으로 한 행을 넘어가기 위해 건너뛰어야 하는 바이트 수입니다.\n",
    "    - 계산: `arr1.shape[1] * arr1.itemsize = 3 * 4 = 12`바이트\n",
    "  - 두 번째 값은 **열(column) 방향**으로 한 열을 넘어가기 위해 건너뛰어야 하는 바이트 수입니다.\n",
    "    - 계산: `arr1.itemsize = 4`바이트\n",
    "- **출력 내용**:\n",
    "\n",
    "  ```\n",
    "  (12, 4)\n",
    "  ```\n",
    "\n",
    "### 3. **전체 출력 예시**\n",
    "\n",
    "```python\n",
    "[[5. 7. 9.]\n",
    " [1. 2. 3.]] <memory at 0x7f8c5e3a8a00> 6 4 (12, 4)\n",
    "```\n",
    "\n",
    "- **주의**: `<memory at 0x7f8c5e3a8a00>` 부분의 메모리 주소는 실행 환경에 따라 달라질 수 있습니다.\n",
    "\n",
    "### 4. **추가 설명**\n",
    "\n",
    "#### **`arr1.strides` 상세 설명**\n",
    "\n",
    "- **`strides`**:\n",
    "  - `strides`는 배열의 각 차원에서 다음 요소로 이동하기 위해 건너뛰어야 하는 바이트 수를 나타냅니다.\n",
    "  - `arr1.strides`가 `(12, 4)`인 경우:\n",
    "    - **첫 번째 차원(행)**:\n",
    "      - 한 행의 모든 요소를 건너뛰기 위해서는 `12`바이트를 이동해야 합니다.\n",
    "      - 이는 한 행에 있는 전체 요소의 메모리 크기입니다 (`3`요소 * `4`바이트).\n",
    "    - **두 번째 차원(열)**:\n",
    "      - 다음 열로 이동하기 위해서는 `4`바이트를 이동해야 합니다.\n",
    "      - 이는 각 요소의 메모리 크기입니다.\n",
    "\n",
    "#### **메모리 상에서의 배열 배치**\n",
    "\n",
    "- **메모리 구조**:\n",
    "  - `numpy`는 기본적으로 C-스타일의 **행 우선(row-major) 순서**로 배열을 저장합니다.\n",
    "  - 이는 메모리에서 행의 요소들이 연속적으로 저장된다는 의미입니다.\n",
    "\n",
    "- **메모리 주소 예시**:\n",
    "\n",
    "  | 메모리 주소 | 배열 요소 | 값    |\n",
    "  |-------------|-----------|-------|\n",
    "  | 0           | `arr1[0,0]` | `5.0` |\n",
    "  | 4           | `arr1[0,1]` | `7.0` |\n",
    "  | 8           | `arr1[0,2]` | `9.0` |\n",
    "  | 12          | `arr1[1,0]` | `1.0` |\n",
    "  | 16          | `arr1[1,1]` | `2.0` |\n",
    "  | 20          | `arr1[1,2]` | `3.0` |\n",
    "\n",
    "  - 각 요소는 `4`바이트를 차지하며, 행을 넘어갈 때는 `12`바이트(한 행의 전체 크기)를 건너뜁니다.\n",
    "\n",
    "### 5. **요약**\n",
    "\n",
    "- **`arr1`**: 생성된 `numpy` 배열로, `[ [5.0, 7.0, 9.0], [1.0, 2.0, 3.0] ]`의 값을 가집니다.\n",
    "- **`arr1.data`**: 배열의 원시 메모리 버퍼를 나타내는 객체입니다.\n",
    "- **`arr1.size`**: 배열의 총 요소 수로, 이 예제에서는 `6`입니다.\n",
    "- **`arr1.itemsize`**: 배열의 각 요소가 차지하는 메모리 크기로, `float32` 타입이므로 `4`바이트입니다.\n",
    "- **`arr1.strides`**: 배열의 각 차원에서 다음 요소로 이동하기 위해 건너뛰어야 하는 바이트 수로, `(12, 4)`입니다.\n",
    "\n",
    "---\n",
    "\n",
    "이렇게 코드의 각 요소와 그 의미에 대해 상세히 설명해 드렸습니다. 추가로 궁금한 사항이나 더 알고 싶은 내용이 있으시면 언제든지 질문해 주세요!"
   ]
  },
  {
   "cell_type": "code",
   "execution_count": 37,
   "metadata": {},
   "outputs": [
    {
     "data": {
      "text/plain": [
       "tensor([[5., 7., 9.],\n",
       "        [1., 2., 3.]])"
      ]
     },
     "execution_count": 37,
     "metadata": {},
     "output_type": "execute_result"
    }
   ],
   "source": [
    "arrTS=torch.from_numpy(arr1)\n",
    "arrTS"
   ]
  },
  {
   "cell_type": "code",
   "execution_count": 38,
   "metadata": {},
   "outputs": [],
   "source": [
    "# 데이터 공유 sharing\n",
    "# touch.as_tensor()\n",
    "# touch.from_numpy()\n",
    "\n",
    "# 데이터 복사 Copy\n",
    "# touch.tensor()\n",
    "# touch.Tensor()\n"
   ]
  },
  {
   "cell_type": "code",
   "execution_count": null,
   "metadata": {},
   "outputs": [],
   "source": [
    "# 형변환 Type Casting\n",
    "\n"
   ]
  }
 ],
 "metadata": {
  "kernelspec": {
   "display_name": "TORCH_38",
   "language": "python",
   "name": "python3"
  },
  "language_info": {
   "codemirror_mode": {
    "name": "ipython",
    "version": 3
   },
   "file_extension": ".py",
   "mimetype": "text/x-python",
   "name": "python",
   "nbconvert_exporter": "python",
   "pygments_lexer": "ipython3",
   "version": "3.8.19"
  }
 },
 "nbformat": 4,
 "nbformat_minor": 2
}
