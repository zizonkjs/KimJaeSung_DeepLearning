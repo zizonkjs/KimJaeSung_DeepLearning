{
 "cells": [
  {
   "cell_type": "markdown",
   "metadata": {},
   "source": [
    "터미널 / 커맨드  \n",
    "cd 명령어 change directory => cd 이동할 폴더명  \n",
    "dir 명령어 => 현재 위치에 존재하는 포더, 파일 리스트 출력  \n",
    "cls 명령어 => 현재 명령어 화면  \n",
    "  \n",
    "자동 완성 => 관련 문자 입력후 Tab\n"
   ]
  }
 ],
 "metadata": {
  "language_info": {
   "name": "python"
  }
 },
 "nbformat": 4,
 "nbformat_minor": 2
}
