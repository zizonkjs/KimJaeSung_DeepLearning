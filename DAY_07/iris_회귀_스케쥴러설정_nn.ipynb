{
 "cells": [
  {
   "cell_type": "markdown",
   "metadata": {},
   "source": [
    "#### DNN 기반 회귀 모델 구현\n",
    "- 사용되는 데이터셋 : iris.csv\n",
    "- feature : 3개\n",
    "- target : 1개 \n",
    "- 학습방법 : 지도학습 -> 회귀\n",
    "- 알고리즘 : 인공신경망(ANN) -> 심층(은닉층) 신경망 -> MLP(층이여러개), DNN(은닉층이 많은 구성) \n",
    "- FramWork : Pytorch\n"
   ]
  },
  {
   "cell_type": "markdown",
   "metadata": {},
   "source": [
    "[1] 모듈  로딩 & 데이터  준비 <HR>\n",
    "학습스케쥴링  \n",
    "    -학습 시 동적으로 lr값을 조절해주는 모듈\n",
    "    "
   ]
  },
  {
   "cell_type": "code",
   "execution_count": 43,
   "metadata": {},
   "outputs": [],
   "source": [
    "# 모듈 로딩\n",
    "# 모델관련 모듈\n",
    "import torch\n",
    "import torch.nn as nn\n",
    "import torch.nn.functional as F\n",
    "from torch.utils.data import DataLoader\n",
    "from torch.utils.data import Dataset\n",
    "\n",
    "import torch.optim as optim # 최적화 관련 모듈\n",
    "import torch.optim.lr_scheduler as lr_scheduler # 최적화 스케쥴링 관련 모듈\n",
    "from torchmetrics.regression import R2Score, MeanSquaredError\n",
    "from torchinfo import summary\n",
    "\n",
    "# 데이터 전처리 및 시각화 모듈\n",
    "import pandas as pd\n",
    "import matplotlib.pyplot as plt\n",
    "import numpy as np\n",
    "import seaborn as sns\n",
    "from sklearn.preprocessing import *\n",
    "from sklearn.model_selection import train_test_split\n",
    "\n"
   ]
  },
  {
   "cell_type": "code",
   "execution_count": 44,
   "metadata": {},
   "outputs": [
    {
     "name": "stdout",
     "output_type": "stream",
     "text": [
      " torch  2.4.1\n",
      " pandas  2.0.3\n"
     ]
    }
   ],
   "source": [
    "# 활용 패키지 버전 체크\n",
    "def versioncheck():\n",
    "    print(f' torch  {torch.__version__}')\n",
    "    print(f' pandas  {pd.__version__}')\n",
    "\n",
    "versioncheck()"
   ]
  },
  {
   "cell_type": "code",
   "execution_count": 45,
   "metadata": {},
   "outputs": [
    {
     "data": {
      "text/html": [
       "<div>\n",
       "<style scoped>\n",
       "    .dataframe tbody tr th:only-of-type {\n",
       "        vertical-align: middle;\n",
       "    }\n",
       "\n",
       "    .dataframe tbody tr th {\n",
       "        vertical-align: top;\n",
       "    }\n",
       "\n",
       "    .dataframe thead th {\n",
       "        text-align: right;\n",
       "    }\n",
       "</style>\n",
       "<table border=\"1\" class=\"dataframe\">\n",
       "  <thead>\n",
       "    <tr style=\"text-align: right;\">\n",
       "      <th></th>\n",
       "      <th>sepal.length</th>\n",
       "      <th>sepal.width</th>\n",
       "      <th>petal.length</th>\n",
       "      <th>petal.width</th>\n",
       "    </tr>\n",
       "  </thead>\n",
       "  <tbody>\n",
       "    <tr>\n",
       "      <th>0</th>\n",
       "      <td>5.1</td>\n",
       "      <td>3.5</td>\n",
       "      <td>1.4</td>\n",
       "      <td>0.2</td>\n",
       "    </tr>\n",
       "    <tr>\n",
       "      <th>1</th>\n",
       "      <td>4.9</td>\n",
       "      <td>3.0</td>\n",
       "      <td>1.4</td>\n",
       "      <td>0.2</td>\n",
       "    </tr>\n",
       "    <tr>\n",
       "      <th>2</th>\n",
       "      <td>4.7</td>\n",
       "      <td>3.2</td>\n",
       "      <td>1.3</td>\n",
       "      <td>0.2</td>\n",
       "    </tr>\n",
       "    <tr>\n",
       "      <th>3</th>\n",
       "      <td>4.6</td>\n",
       "      <td>3.1</td>\n",
       "      <td>1.5</td>\n",
       "      <td>0.2</td>\n",
       "    </tr>\n",
       "    <tr>\n",
       "      <th>4</th>\n",
       "      <td>5.0</td>\n",
       "      <td>3.6</td>\n",
       "      <td>1.4</td>\n",
       "      <td>0.2</td>\n",
       "    </tr>\n",
       "    <tr>\n",
       "      <th>...</th>\n",
       "      <td>...</td>\n",
       "      <td>...</td>\n",
       "      <td>...</td>\n",
       "      <td>...</td>\n",
       "    </tr>\n",
       "    <tr>\n",
       "      <th>145</th>\n",
       "      <td>6.7</td>\n",
       "      <td>3.0</td>\n",
       "      <td>5.2</td>\n",
       "      <td>2.3</td>\n",
       "    </tr>\n",
       "    <tr>\n",
       "      <th>146</th>\n",
       "      <td>6.3</td>\n",
       "      <td>2.5</td>\n",
       "      <td>5.0</td>\n",
       "      <td>1.9</td>\n",
       "    </tr>\n",
       "    <tr>\n",
       "      <th>147</th>\n",
       "      <td>6.5</td>\n",
       "      <td>3.0</td>\n",
       "      <td>5.2</td>\n",
       "      <td>2.0</td>\n",
       "    </tr>\n",
       "    <tr>\n",
       "      <th>148</th>\n",
       "      <td>6.2</td>\n",
       "      <td>3.4</td>\n",
       "      <td>5.4</td>\n",
       "      <td>2.3</td>\n",
       "    </tr>\n",
       "    <tr>\n",
       "      <th>149</th>\n",
       "      <td>5.9</td>\n",
       "      <td>3.0</td>\n",
       "      <td>5.1</td>\n",
       "      <td>1.8</td>\n",
       "    </tr>\n",
       "  </tbody>\n",
       "</table>\n",
       "<p>150 rows × 4 columns</p>\n",
       "</div>"
      ],
      "text/plain": [
       "     sepal.length  sepal.width  petal.length  petal.width\n",
       "0             5.1          3.5           1.4          0.2\n",
       "1             4.9          3.0           1.4          0.2\n",
       "2             4.7          3.2           1.3          0.2\n",
       "3             4.6          3.1           1.5          0.2\n",
       "4             5.0          3.6           1.4          0.2\n",
       "..            ...          ...           ...          ...\n",
       "145           6.7          3.0           5.2          2.3\n",
       "146           6.3          2.5           5.0          1.9\n",
       "147           6.5          3.0           5.2          2.0\n",
       "148           6.2          3.4           5.4          2.3\n",
       "149           5.9          3.0           5.1          1.8\n",
       "\n",
       "[150 rows x 4 columns]"
      ]
     },
     "execution_count": 45,
     "metadata": {},
     "output_type": "execute_result"
    }
   ],
   "source": [
    "DATA_FILE = r'C:\\Users\\zizonkjs\\머신러닝,딥러닝\\data\\iris.csv'\n",
    "irisdf=pd.read_csv(DATA_FILE, usecols=[0,1,2,3])\n",
    "irisdf"
   ]
  },
  {
   "cell_type": "markdown",
   "metadata": {},
   "source": [
    "[2] - 모델 클레스 설계 및 정의 - <hr>\n",
    "어떤 클래스를 만들까? 고려\n",
    "클래스 목적 : iris.DataSet 학습 후 추론\n",
    "클래스 이름 : IrisRegModel\n",
    "부모 클래스 : nn.Module\n",
    "매개 변수   : 층별 입출력 갯수 고정하기 때문에 필요 없음\n",
    "클래스 속성 : featureDF, targetDF, n_rows, n_features\n",
    "클래스 기능 : __init__() : 모델 구조, forward() : 순방향 학습 <= 오버라이딩(overriding) 상속관계일 때\n",
    "\n",
    "클래스 구조  \n",
    "    -입력층 : 피쳐 3개  퍼셉트론 : 10개(보통 입력 때 많이 주고 갈수록 줄임) (3,10)\n",
    "    -은닉층 : 입력 10개     출력 30개   (10,30)\n",
    "    -출력층 : 입력30개      타겟 1개    (30,1)  \n",
    "  \n",
    "-손실 함수/ 활성화 함수\n",
    "    *클래스 형태 ==> nn.MESLoss, nn.ReLU ==> __init__() 메서드에 사용\n",
    "    *함수 형태 ==> torch.nn.functional => forward()메서드에 사용"
   ]
  },
  {
   "cell_type": "code",
   "execution_count": 46,
   "metadata": {},
   "outputs": [],
   "source": [
    "class IrisRegModel(nn.Module):\n",
    "\n",
    "    # 모델 구조 구성 및 인스턴스 생성 메서드\n",
    "    def __init__(self):\n",
    "        super().__init__()\n",
    "\n",
    "        self.in_layer=nn.Linear(3, 10)\n",
    "        self.hidden_layer=nn.Linear(10, 30)\n",
    "        self.out_layer=nn.Linear(30, 1)\n",
    "    \n",
    "    # 순방향 학습 진행 메서드\n",
    "    def forward(self, input_data):\n",
    "        # 입력층\n",
    "        y=self.in_layer(input_data) # f1w1+f2w2+f3w3+b 요런 식이 10개(숫자10개)\n",
    "        y=F.relu(y)                   # 범위 0이상\n",
    "        \n",
    "        # 은닉층 : 10개의 숫자 받아오기\n",
    "        y=self.hidden_layer(y)\n",
    "        y=F.relu(y)\n",
    "\n",
    "        # 출력층 : 30개의 숫자 값\n",
    "        return self.out_layer(y)\n",
    "    \n",
    "\n",
    "\n",
    "\n",
    "\n"
   ]
  },
  {
   "cell_type": "code",
   "execution_count": 47,
   "metadata": {},
   "outputs": [
    {
     "name": "stdout",
     "output_type": "stream",
     "text": [
      "IrisRegModel(\n",
      "  (in_layer): Linear(in_features=3, out_features=10, bias=True)\n",
      "  (hidden_layer): Linear(in_features=10, out_features=30, bias=True)\n",
      "  (out_layer): Linear(in_features=30, out_features=1, bias=True)\n",
      ")\n"
     ]
    },
    {
     "data": {
      "text/plain": [
       "==========================================================================================\n",
       "Layer (type:depth-idx)                   Output Shape              Param #\n",
       "==========================================================================================\n",
       "IrisRegModel                             [1000, 1]                 --\n",
       "├─Linear: 1-1                            [1000, 10]                40\n",
       "├─Linear: 1-2                            [1000, 30]                330\n",
       "├─Linear: 1-3                            [1000, 1]                 31\n",
       "==========================================================================================\n",
       "Total params: 401\n",
       "Trainable params: 401\n",
       "Non-trainable params: 0\n",
       "Total mult-adds (M): 0.40\n",
       "==========================================================================================\n",
       "Input size (MB): 0.01\n",
       "Forward/backward pass size (MB): 0.33\n",
       "Params size (MB): 0.00\n",
       "Estimated Total Size (MB): 0.34\n",
       "=========================================================================================="
      ]
     },
     "execution_count": 47,
     "metadata": {},
     "output_type": "execute_result"
    }
   ],
   "source": [
    "# 모델 인스턴스 생성\n",
    "model = IrisRegModel()\n",
    "print(model)\n",
    "\n",
    "# 모델 사용 메모리 정보\n",
    "summary(model, input_size=(1000,3))"
   ]
  },
  {
   "cell_type": "markdown",
   "metadata": {},
   "source": [
    "[3] 데이터셋 클래스 설계 및 정의 <hr>\n",
    "- 데이터셋 : iris.csv\n",
    "- 피쳐개수 : 3개\n",
    "- 타겟개수 : 1개\n",
    "- 클래스이름 : IrisDataSet\n",
    "- 부모클래스 : utils.data.DataSet\n",
    "- 속성__필드 : featureDF, targetDF, n_rows, n_featrues  \n",
    "- 필수 메서드:   \n",
    "    *__init__(self) : 데이터셋 저장 및 전처리, 개발자가 필요한 속성 설정  \n",
    "    *__len__(self) : 데이터의 개수 반환  \n",
    "    *__getItem__(self, index) : 특정 인덱스의 피쳐와 타겟 반환  "
   ]
  },
  {
   "cell_type": "code",
   "execution_count": 48,
   "metadata": {},
   "outputs": [],
   "source": [
    "class IrisDataset(Dataset):\n",
    "\n",
    "    def __init__(self, featureDF, targetDF):\n",
    "        self.featureDF=featureDF\n",
    "        self.targetDF=targetDF\n",
    "        self.n_rows=featureDF.shape[0]\n",
    "        self.n_features=featureDF.shape[1]\n",
    "        \n",
    "\n",
    "    def __len__(self):\n",
    "        return self.n_rows\n",
    "\n",
    "    def __getitem__(self, index):\n",
    "        # 텐서화\n",
    "        featureTS=torch.FloatTensor(self.featureDF.iloc[index].values)\n",
    "        targetTS=torch.FloatTensor(self.targetDF.iloc[index].values)\n",
    "        return featureTS, targetTS"
   ]
  },
  {
   "cell_type": "code",
   "execution_count": 49,
   "metadata": {},
   "outputs": [],
   "source": [
    "# 데이터셋 인스턴스 생성\n",
    "featureDF = irisdf[irisdf.columns[:-1]] # 2D (150,3)\n",
    "targetDF = irisdf[irisdf.columns[-1:]] # 1D(150,1)\n",
    "\n",
    "\n",
    "irisDS=IrisDataset(featureDF,targetDF)\n"
   ]
  },
  {
   "cell_type": "markdown",
   "metadata": {},
   "source": [
    "[4] 학습 준비\n",
    "- 학습 횟수 : EPOCH ( 처음부터 끝까지 공부할 횟수 )\n",
    "- 배치 크기 : BATCH_SIZE(학습량)\n",
    "- 위치 지정 : DEVICE (텐서 저장 및 실행 위치 GPU/CPU)\n",
    "- 학 습 률  : 가중치와 절편 업데이트 시 경사하강법으로 업데이트 간격 설정 0.001~0.1\n",
    "- "
   ]
  },
  {
   "cell_type": "code",
   "execution_count": 50,
   "metadata": {},
   "outputs": [],
   "source": [
    "# 학습 진행 관련 설정 값\n",
    "EPOCH = 1000\n",
    "BATCH_SIZE = 10\n",
    "DEVICE = 'cuda' if torch.cuda.is_available() else 'cpu'\n",
    "LR = 0.001\n"
   ]
  },
  {
   "cell_type": "markdown",
   "metadata": {},
   "source": [
    "- 인스턴스 : 모델, 데이터 셋, 최적화 (, 성능지표) "
   ]
  },
  {
   "cell_type": "code",
   "execution_count": 51,
   "metadata": {},
   "outputs": [
    {
     "name": "stdout",
     "output_type": "stream",
     "text": [
      "(84, 3) (38, 3) (28, 3)\n",
      "(84, 1) (38, 1) (28, 1)\n"
     ]
    }
   ],
   "source": [
    "# 모델 인스턴스\n",
    "model = IrisRegModel()\n",
    "\n",
    "# 데이터셋 인스턴스\n",
    "X_train, X_test, y_train, y_test = train_test_split(featureDF, targetDF, random_state=1)\n",
    "\n",
    "X_train, X_val, y_train, y_val = train_test_split(X_train, y_train, random_state=1)\n",
    "print(f'{X_train.shape} {X_test.shape} {X_val.shape}')\n",
    "print(f'{y_train.shape} {y_test.shape} {y_val.shape}')\n",
    "\n",
    "\n",
    "trainDS = IrisDataset(X_train, y_train)\n",
    "testDS = IrisDataset(X_test, y_test)\n",
    "valDS = IrisDataset(X_val, y_val)\n",
    "\n",
    "# 데이터 로더 인스턴스\n",
    "trainDL=DataLoader(trainDS, batch_size=BATCH_SIZE)\n",
    "\n",
    "# 최적화"
   ]
  },
  {
   "cell_type": "code",
   "execution_count": 52,
   "metadata": {},
   "outputs": [
    {
     "name": "stdout",
     "output_type": "stream",
     "text": [
      "torch.Size([10, 3]) torch.Size([10, 1])\n"
     ]
    }
   ],
   "source": [
    "## 테스트\n",
    "for feature, target in trainDL:\n",
    "    print(feature.shape, target.shape)\n",
    "    break"
   ]
  },
  {
   "cell_type": "code",
   "execution_count": 53,
   "metadata": {},
   "outputs": [
    {
     "name": "stderr",
     "output_type": "stream",
     "text": [
      "c:\\Users\\KDP-26\\anaconda3\\envs\\TORCH_38\\lib\\site-packages\\torch\\optim\\lr_scheduler.py:60: UserWarning: The verbose parameter is deprecated. Please use get_last_lr() to access the learning rate.\n",
      "  warnings.warn(\n"
     ]
    }
   ],
   "source": [
    "\n",
    "# 최적화 인스턴스 => w, b model.parameter 전달\n",
    "optimizer=optim.Adam(model.parameters(), lr=LR)\n",
    "\n",
    "# 최적화 스케쥴링 인스턴스 생성 ==> LR 조절 및 성능 개선 여부체크\n",
    "scheduler = lr_scheduler.ReduceLROnPlateau(optimizer,patience=10, verbose=True)\n",
    "\n",
    "\n",
    "\n",
    "# 손실함수 인스턴스\n",
    "reqLoss=nn.MSELoss()"
   ]
  },
  {
   "cell_type": "markdown",
   "metadata": {},
   "source": [
    "[5] 학습 진행"
   ]
  },
  {
   "cell_type": "code",
   "execution_count": 54,
   "metadata": {},
   "outputs": [
    {
     "name": "stdout",
     "output_type": "stream",
     "text": [
      "scheduler.num_bad_epochs => 0 scheduler.patience => 10\n",
      "scheduler.num_bad_epochs => 0 scheduler.patience => 10\n",
      "scheduler.num_bad_epochs => 0 scheduler.patience => 10\n",
      "scheduler.num_bad_epochs => 0 scheduler.patience => 10\n",
      "scheduler.num_bad_epochs => 0 scheduler.patience => 10\n",
      "scheduler.num_bad_epochs => 0 scheduler.patience => 10\n",
      "scheduler.num_bad_epochs => 0 scheduler.patience => 10\n",
      "scheduler.num_bad_epochs => 0 scheduler.patience => 10\n",
      "scheduler.num_bad_epochs => 0 scheduler.patience => 10\n",
      "scheduler.num_bad_epochs => 0 scheduler.patience => 10\n",
      "scheduler.num_bad_epochs => 0 scheduler.patience => 10\n",
      "scheduler.num_bad_epochs => 0 scheduler.patience => 10\n",
      "scheduler.num_bad_epochs => 0 scheduler.patience => 10\n"
     ]
    },
    {
     "name": "stdout",
     "output_type": "stream",
     "text": [
      "scheduler.num_bad_epochs => 0 scheduler.patience => 10\n",
      "scheduler.num_bad_epochs => 0 scheduler.patience => 10\n",
      "scheduler.num_bad_epochs => 0 scheduler.patience => 10\n",
      "scheduler.num_bad_epochs => 0 scheduler.patience => 10\n",
      "scheduler.num_bad_epochs => 0 scheduler.patience => 10\n",
      "scheduler.num_bad_epochs => 0 scheduler.patience => 10\n",
      "scheduler.num_bad_epochs => 0 scheduler.patience => 10\n",
      "scheduler.num_bad_epochs => 0 scheduler.patience => 10\n",
      "scheduler.num_bad_epochs => 0 scheduler.patience => 10\n",
      "scheduler.num_bad_epochs => 0 scheduler.patience => 10\n",
      "scheduler.num_bad_epochs => 0 scheduler.patience => 10\n",
      "scheduler.num_bad_epochs => 1 scheduler.patience => 10\n",
      "scheduler.num_bad_epochs => 2 scheduler.patience => 10\n",
      "scheduler.num_bad_epochs => 3 scheduler.patience => 10\n",
      "scheduler.num_bad_epochs => 4 scheduler.patience => 10\n",
      "scheduler.num_bad_epochs => 5 scheduler.patience => 10\n",
      "scheduler.num_bad_epochs => 6 scheduler.patience => 10\n",
      "scheduler.num_bad_epochs => 7 scheduler.patience => 10\n",
      "scheduler.num_bad_epochs => 8 scheduler.patience => 10\n",
      "scheduler.num_bad_epochs => 9 scheduler.patience => 10\n",
      "scheduler.num_bad_epochs => 10 scheduler.patience => 10\n",
      "10EPOCH 성능 개선이 없어서 조기종료함!\n"
     ]
    }
   ],
   "source": [
    "## 학습의 효과 확인 손실값과 성능평가값 저장 필요\n",
    "LOSS_HISTORY, SCORE_HISTORY=[[],[]], [[],[]]\n",
    "\n",
    "# 학습 모드로 모델 설정\n",
    "model.train()\n",
    "\n",
    "for epoch in range(EPOCH):\n",
    "\n",
    "    # 학습 모드로 모델 설정\n",
    "    model.train()\n",
    "\n",
    "    # 배치크기만큼 데이터 로딩해서 학습 진행\n",
    "    loss_total, score_total = 0,0\n",
    "\n",
    "    for featureTS, targetTS in trainDL:\n",
    "\n",
    "        #학습 진행\n",
    "        pre_y=model(featureTS)\n",
    "\n",
    "        #손실 계산\n",
    "        loss=reqLoss(pre_y, targetTS)\n",
    "        loss_total += loss.item()\n",
    "\n",
    "\n",
    "        #성능평가 계산\n",
    "        score=R2Score()(pre_y, targetTS)\n",
    "        score_total += score.item()\n",
    "\n",
    "        #최적화 진행\n",
    "        optimizer.zero_grad()\n",
    "        loss.backward()\n",
    "        optimizer.step()\n",
    "    \n",
    "    # 에폭당 검증 기능을 키겠다.\n",
    "    # 모델 검증 모드 설정\n",
    "    model.eval()\n",
    "    with torch.no_grad():\n",
    "        # 검증 데이터셋\n",
    "        val_featureTS=torch.FloatTensor(valDS.featureDF.values)\n",
    "        val_targetTS=torch.FloatTensor(valDS.targetDF.values)\n",
    "        \n",
    "        #평가\n",
    "        pre_val=model(val_featureTS)\n",
    "\n",
    "        #손실\n",
    "        loss_val=reqLoss(pre_val, val_targetTS)\n",
    "\n",
    "        # 성능평가\n",
    "        score_val = R2Score()(pre_val, val_targetTS)\n",
    "\n",
    "\n",
    "\n",
    "\n",
    "    # 에폭당 손실값과 성능평가 값 저장\n",
    "    LOSS_HISTORY[0].append(loss_total/BATCH_SIZE)\n",
    "    SCORE_HISTORY[0].append(score_total/BATCH_SIZE)\n",
    "\n",
    "    LOSS_HISTORY[1].append(loss_val)\n",
    "    SCORE_HISTORY[1].append(score_val)\n",
    "\n",
    "    # 최적화 스케쥴러 인스턴스 업데이트\n",
    "    scheduler.step(loss_val)\n",
    "    print(f'scheduler.num_bad_epochs => {scheduler.num_bad_epochs}', end=' ')\n",
    "    print(f'scheduler.patience => {scheduler.patience}')\n",
    "    #손실 감소(또는 성능 개선)이 안되는 경우 조기 종료\n",
    "    if scheduler.num_bad_epochs >= scheduler.patience:\n",
    "        print(f'{scheduler.patience}EPOCH 성능 개선이 없어서 조기종료함!')\n",
    "        break"
   ]
  },
  {
   "cell_type": "code",
   "execution_count": 55,
   "metadata": {},
   "outputs": [
    {
     "name": "stdout",
     "output_type": "stream",
     "text": [
      "[[2.942534160614014, 2.023794746398926, 1.3389312207698822, 0.8624955356121063, 0.5456009894609452, 0.35945998728275297, 0.26695021986961365, 0.2263214871287346, 0.1988663300871849, 0.1751304715871811, 0.1545691967010498, 0.1361067585647106, 0.11953538209199906, 0.10509632527828217, 0.0926325909793377, 0.08194466643035411, 0.07311356291174889, 0.06599867083132267, 0.0604507140815258, 0.05617257729172707, 0.053023144416511056, 0.050837961584329606, 0.049230461940169334, 0.04815588220953941, 0.047480761632323266, 0.046989509277045725, 0.046618917398154734, 0.04633507896214724, 0.04612650442868471, 0.04595104120671749, 0.04581137951463461, 0.045652903988957404, 0.0454736664891243, 0.04530017599463463], [tensor(2.3302), tensor(1.5565), tensor(1.0122), tensor(0.6613), tensor(0.4547), tensor(0.3529), tensor(0.3089), tensor(0.2783), tensor(0.2417), tensor(0.2043), tensor(0.1736), tensor(0.1486), tensor(0.1261), tensor(0.1068), tensor(0.0918), tensor(0.0791), tensor(0.0688), tensor(0.0615), tensor(0.0565), tensor(0.0533), tensor(0.0512), tensor(0.0502), tensor(0.0499), tensor(0.0497), tensor(0.0499), tensor(0.0502), tensor(0.0503), tensor(0.0505), tensor(0.0507), tensor(0.0507), tensor(0.0508), tensor(0.0509), tensor(0.0508), tensor(0.0509)]]\n",
      "[[-5.432370567321778, -3.4696516752243043, -1.9976439356803894, -0.966876220703125, -0.27414695620536805, 0.1393020272254944, 0.3488735735416412, 0.4402224838733673, 0.49807711839675906, 0.5447618961334229, 0.5844125390052796, 0.620738399028778, 0.6537778496742248, 0.6822944223880768, 0.7070914685726166, 0.7285678565502167, 0.746193653345108, 0.7604582846164704, 0.7716570258140564, 0.7803961992263794, 0.7868437588214874, 0.7913113355636596, 0.7946336507797241, 0.796867287158966, 0.7982693016529083, 0.7993161261081696, 0.8001168370246887, 0.8007247924804688, 0.8011690437793731, 0.8015644550323486, 0.8018928825855255, 0.8022766292095185, 0.8027127802371978, 0.8031064152717591], [tensor(-2.6098), tensor(-1.4113), tensor(-0.5680), tensor(-0.0244), tensor(0.2956), tensor(0.4533), tensor(0.5215), tensor(0.5689), tensor(0.6256), tensor(0.6835), tensor(0.7310), tensor(0.7698), tensor(0.8046), tensor(0.8346), tensor(0.8578), tensor(0.8775), tensor(0.8934), tensor(0.9047), tensor(0.9124), tensor(0.9174), tensor(0.9206), tensor(0.9222), tensor(0.9227), tensor(0.9230), tensor(0.9228), tensor(0.9223), tensor(0.9220), tensor(0.9217), tensor(0.9215), tensor(0.9214), tensor(0.9213), tensor(0.9212), tensor(0.9213), tensor(0.9212)]]\n"
     ]
    }
   ],
   "source": [
    "print(LOSS_HISTORY)\n",
    "print(SCORE_HISTORY)"
   ]
  }
 ],
 "metadata": {
  "kernelspec": {
   "display_name": "TORCH_38",
   "language": "python",
   "name": "python3"
  },
  "language_info": {
   "codemirror_mode": {
    "name": "ipython",
    "version": 3
   },
   "file_extension": ".py",
   "mimetype": "text/x-python",
   "name": "python",
   "nbconvert_exporter": "python",
   "pygments_lexer": "ipython3",
   "version": "3.8.19"
  }
 },
 "nbformat": 4,
 "nbformat_minor": 2
}
