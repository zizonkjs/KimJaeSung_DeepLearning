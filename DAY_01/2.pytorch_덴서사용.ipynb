{
 "cells": [
  {
   "cell_type": "markdown",
   "metadata": {},
   "source": [
    "#### Tensor 이해"
   ]
  },
  {
   "cell_type": "code",
   "execution_count": 2,
   "metadata": {},
   "outputs": [],
   "source": [
    "### 모듈 로딩\n",
    "import torch "
   ]
  },
  {
   "cell_type": "markdown",
   "metadata": {},
   "source": [
    "- Tensor생성 [2] torch,rand()- "
   ]
  },
  {
   "cell_type": "code",
   "execution_count": 10,
   "metadata": {},
   "outputs": [
    {
     "name": "stdout",
     "output_type": "stream",
     "text": [
      "tensor([0.7576, 0.2793, 0.4031])\n",
      "tensor([[0.7347, 0.0293, 0.7999],\n",
      "        [0.3971, 0.7544, 0.5695]])\n",
      "tensor([[[0.4388, 0.6387, 0.5247]],\n",
      "\n",
      "        [[0.6826, 0.3051, 0.4635]]])\n"
     ]
    }
   ],
   "source": [
    "# 0 <= ~ <1 범위의 임의의 숫자 1개 추출 => rand\n",
    "torch.manual_seed(1)\n",
    "\n",
    "# rand(*size) : 가변인자 지정 -> 몇 차원인지 지정해줄 수 있음.\n",
    "dataTS1 = torch.rand(3)\n",
    "dataTS2 = torch.rand(2,3)\n",
    "dataTS3 = torch.rand(2,1,3)\n",
    "print(dataTS1)\n",
    "print(dataTS2)\n",
    "print(dataTS3)\n"
   ]
  },
  {
   "cell_type": "markdown",
   "metadata": {},
   "source": [
    "- Tensor 생성 [3] torch.randn()\n"
   ]
  },
  {
   "cell_type": "code",
   "execution_count": 11,
   "metadata": {},
   "outputs": [
    {
     "name": "stdout",
     "output_type": "stream",
     "text": [
      "tensor([-1.8349, -2.2149,  0.0436])\n",
      "tensor([[ 1.3240, -0.1005,  0.6443],\n",
      "        [ 0.5244,  1.0157,  0.2571]])\n",
      "tensor([[[-0.9013,  0.8138,  0.3871]],\n",
      "\n",
      "        [[ 0.5417,  0.6646,  0.3248]]])\n"
     ]
    }
   ],
   "source": [
    "dataTS1 = torch.randn(3)\n",
    "dataTS2 = torch.randn(2,3)\n",
    "dataTS3 = torch.randn(2,1,3) # 정규분포 형태로 나오기 때문에 음수도 나올 수 있음.\n",
    "print(dataTS1)\n",
    "print(dataTS2)\n",
    "print(dataTS3)"
   ]
  },
  {
   "cell_type": "markdown",
   "metadata": {},
   "source": [
    "-Tensor 생성 [4] torch.randint()"
   ]
  },
  {
   "cell_type": "code",
   "execution_count": 130,
   "metadata": {},
   "outputs": [
    {
     "name": "stdout",
     "output_type": "stream",
     "text": [
      "tensor([[17,  9, 24,  5, 43, 22],\n",
      "        [45,  5, 35, 44, 20, 34],\n",
      "        [ 7, 11,  4, 34,  4, 21],\n",
      "        [27, 28,  3, 39, 15, 24],\n",
      "        [26, 25, 26, 45, 11, 27],\n",
      "        [23, 27,  2, 37, 17, 29],\n",
      "        [14, 17, 33, 15, 33, 12],\n",
      "        [17, 15, 43, 28,  8,  9],\n",
      "        [ 2,  4, 11, 30,  7, 28],\n",
      "        [24, 26,  7, 20, 24, 40]])\n"
     ]
    }
   ],
   "source": [
    "dataTS1 = torch.randint(1,46,(10,6))\n",
    "\n",
    "print(dataTS1)\n"
   ]
  },
  {
   "cell_type": "code",
   "execution_count": null,
   "metadata": {},
   "outputs": [],
   "source": []
  },
  {
   "cell_type": "code",
   "execution_count": null,
   "metadata": {},
   "outputs": [],
   "source": []
  }
 ],
 "metadata": {
  "kernelspec": {
   "display_name": "TORCH_38",
   "language": "python",
   "name": "python3"
  },
  "language_info": {
   "codemirror_mode": {
    "name": "ipython",
    "version": 3
   },
   "file_extension": ".py",
   "mimetype": "text/x-python",
   "name": "python",
   "nbconvert_exporter": "python",
   "pygments_lexer": "ipython3",
   "version": "3.8.19"
  }
 },
 "nbformat": 4,
 "nbformat_minor": 2
}
