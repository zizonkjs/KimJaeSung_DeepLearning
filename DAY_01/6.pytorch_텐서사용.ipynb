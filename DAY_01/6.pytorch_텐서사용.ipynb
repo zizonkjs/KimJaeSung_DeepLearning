{
 "cells": [
  {
   "cell_type": "markdown",
   "metadata": {},
   "source": [
    "### Tensor 저장 구조 이해\n",
    "- storage 객체\n",
    "    * 텐서 객체의 메모리 저장 관련 정보 저장\n",
    "    * offset : 첫 번째 원소 인덱스\n",
    "    * stride : 원소 이동을 위한 정보 저장 \n",
    "        *다음 행 이동 하기 위한 메모리 칸수, 다음 열 이동하기 위한 메모리 칸수"
   ]
  },
  {
   "cell_type": "code",
   "execution_count": 21,
   "metadata": {},
   "outputs": [],
   "source": [
    "### module roading\n",
    "import torch\n",
    "import numpy as np"
   ]
  },
  {
   "cell_type": "code",
   "execution_count": 22,
   "metadata": {},
   "outputs": [
    {
     "name": "stdout",
     "output_type": "stream",
     "text": [
      "tensor([[11, 22, 33],\n",
      "        [44, 55, 66]], dtype=torch.int16)\n",
      "(3, 1)\n",
      "2\n",
      "torch.int16\n"
     ]
    }
   ],
   "source": [
    "#### 텐서 생성\n",
    "dataTS = torch.tensor([[11,22,33], [44,55,66]], dtype=torch.int16)\n",
    "print(dataTS, dataTS.stride(), dataTS.ndim, dataTS.dtype, sep='\\n')"
   ]
  },
  {
   "cell_type": "code",
   "execution_count": 23,
   "metadata": {},
   "outputs": [
    {
     "name": "stdout",
     "output_type": "stream",
     "text": [
      " 11\n",
      " 0\n",
      " 22\n",
      " 0\n",
      " 33\n",
      " 0\n",
      " 44\n",
      " 0\n",
      " 55\n",
      " 0\n",
      " 66\n",
      " 0\n",
      "[torch.storage.UntypedStorage(device=cpu) of size 12]\n"
     ]
    }
   ],
   "source": [
    "### STORAGE 정보 => 메모리에 저장된 데이터 형태 1D\n",
    "print(dataTS.untyped_storage())"
   ]
  },
  {
   "cell_type": "code",
   "execution_count": 24,
   "metadata": {},
   "outputs": [
    {
     "data": {
      "text/plain": [
       "(11, 0)"
      ]
     },
     "execution_count": 24,
     "metadata": {},
     "output_type": "execute_result"
    }
   ],
   "source": [
    "mem_stroage=dataTS.untyped_storage()\n",
    "mem_stroage[0], mem_stroage[-1]"
   ]
  },
  {
   "cell_type": "code",
   "execution_count": 26,
   "metadata": {},
   "outputs": [
    {
     "data": {
      "text/plain": [
       "(torch.Size([2, 3]), torch.int16)"
      ]
     },
     "execution_count": 26,
     "metadata": {},
     "output_type": "execute_result"
    }
   ],
   "source": [
    "dataTS.shape, dataTS.dtype"
   ]
  },
  {
   "cell_type": "code",
   "execution_count": 29,
   "metadata": {},
   "outputs": [
    {
     "name": "stdout",
     "output_type": "stream",
     "text": [
      "[0번째 원소] - 11 : 메모리 주소 :140723513797856\n",
      "[1번째 원소] - 0 : 메모리 주소 :140723513797504\n",
      "[2번째 원소] - 22 : 메모리 주소 :140723513798208\n",
      "[3번째 원소] - 0 : 메모리 주소 :140723513797504\n",
      "[4번째 원소] - 33 : 메모리 주소 :140723513798560\n",
      "[5번째 원소] - 0 : 메모리 주소 :140723513797504\n"
     ]
    }
   ],
   "source": [
    "for idx in range(6):\n",
    "    print(f'[{idx}번째 원소] - {mem_stroage[idx]} : 메모리 주소 :{id(mem_stroage[idx])}')"
   ]
  },
  {
   "cell_type": "code",
   "execution_count": 30,
   "metadata": {},
   "outputs": [
    {
     "data": {
      "text/plain": [
       "tensor([[11, 22, 33],\n",
       "        [44, 55, 66]], dtype=torch.int16)"
      ]
     },
     "execution_count": 30,
     "metadata": {},
     "output_type": "execute_result"
    }
   ],
   "source": [
    "dataTS.data"
   ]
  },
  {
   "cell_type": "code",
   "execution_count": 31,
   "metadata": {},
   "outputs": [
    {
     "data": {
      "text/plain": [
       "4012241912128"
      ]
     },
     "execution_count": 31,
     "metadata": {},
     "output_type": "execute_result"
    }
   ],
   "source": [
    "dataTS.data_ptr()"
   ]
  },
  {
   "cell_type": "code",
   "execution_count": 32,
   "metadata": {},
   "outputs": [
    {
     "name": "stdout",
     "output_type": "stream",
     "text": [
      "0\n"
     ]
    }
   ],
   "source": [
    "print(dataTS.storage_offset())"
   ]
  },
  {
   "cell_type": "code",
   "execution_count": null,
   "metadata": {},
   "outputs": [],
   "source": []
  }
 ],
 "metadata": {
  "kernelspec": {
   "display_name": "TORCH_38",
   "language": "python",
   "name": "python3"
  },
  "language_info": {
   "codemirror_mode": {
    "name": "ipython",
    "version": 3
   },
   "file_extension": ".py",
   "mimetype": "text/x-python",
   "name": "python",
   "nbconvert_exporter": "python",
   "pygments_lexer": "ipython3",
   "version": "3.8.19"
  }
 },
 "nbformat": 4,
 "nbformat_minor": 2
}
